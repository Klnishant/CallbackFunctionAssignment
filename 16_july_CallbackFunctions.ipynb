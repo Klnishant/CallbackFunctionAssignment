{
 "cells": [
  {
   "cell_type": "markdown",
   "id": "256ab149-6460-4d22-ab34-010e89e2c566",
   "metadata": {},
   "source": [
    "### Q1. Install and load the latest versions of TensorFlow and Keras. Print their versions."
   ]
  },
  {
   "cell_type": "code",
   "execution_count": 75,
   "id": "9df99ba2-2c85-4ce8-bfff-230ceeacd9a2",
   "metadata": {},
   "outputs": [
    {
     "name": "stdout",
     "output_type": "stream",
     "text": [
      "Requirement already satisfied: tensorflow in /opt/conda/lib/python3.10/site-packages (2.13.0)\n",
      "Requirement already satisfied: keras<2.14,>=2.13.1 in /opt/conda/lib/python3.10/site-packages (from tensorflow) (2.13.1)\n",
      "Requirement already satisfied: setuptools in /opt/conda/lib/python3.10/site-packages (from tensorflow) (65.5.1)\n",
      "Requirement already satisfied: numpy<=1.24.3,>=1.22 in /opt/conda/lib/python3.10/site-packages (from tensorflow) (1.23.5)\n",
      "Requirement already satisfied: h5py>=2.9.0 in /opt/conda/lib/python3.10/site-packages (from tensorflow) (3.7.0)\n",
      "Requirement already satisfied: opt-einsum>=2.3.2 in /opt/conda/lib/python3.10/site-packages (from tensorflow) (3.3.0)\n",
      "Requirement already satisfied: tensorboard<2.14,>=2.13 in /opt/conda/lib/python3.10/site-packages (from tensorflow) (2.13.0)\n",
      "Requirement already satisfied: tensorflow-estimator<2.14,>=2.13.0 in /opt/conda/lib/python3.10/site-packages (from tensorflow) (2.13.0)\n",
      "Requirement already satisfied: wrapt>=1.11.0 in /opt/conda/lib/python3.10/site-packages (from tensorflow) (1.15.0)\n",
      "Requirement already satisfied: absl-py>=1.0.0 in /opt/conda/lib/python3.10/site-packages (from tensorflow) (1.4.0)\n",
      "Requirement already satisfied: astunparse>=1.6.0 in /opt/conda/lib/python3.10/site-packages (from tensorflow) (1.6.3)\n",
      "Requirement already satisfied: termcolor>=1.1.0 in /opt/conda/lib/python3.10/site-packages (from tensorflow) (2.3.0)\n",
      "Requirement already satisfied: typing-extensions<4.6.0,>=3.6.6 in /opt/conda/lib/python3.10/site-packages (from tensorflow) (4.4.0)\n",
      "Requirement already satisfied: tensorflow-io-gcs-filesystem>=0.23.1 in /opt/conda/lib/python3.10/site-packages (from tensorflow) (0.32.0)\n",
      "Requirement already satisfied: grpcio<2.0,>=1.24.3 in /opt/conda/lib/python3.10/site-packages (from tensorflow) (1.56.2)\n",
      "Requirement already satisfied: packaging in /opt/conda/lib/python3.10/site-packages (from tensorflow) (22.0)\n",
      "Requirement already satisfied: protobuf!=4.21.0,!=4.21.1,!=4.21.2,!=4.21.3,!=4.21.4,!=4.21.5,<5.0.0dev,>=3.20.3 in /opt/conda/lib/python3.10/site-packages (from tensorflow) (4.21.11)\n",
      "Requirement already satisfied: flatbuffers>=23.1.21 in /opt/conda/lib/python3.10/site-packages (from tensorflow) (23.5.26)\n",
      "Requirement already satisfied: six>=1.12.0 in /opt/conda/lib/python3.10/site-packages (from tensorflow) (1.16.0)\n",
      "Requirement already satisfied: gast<=0.4.0,>=0.2.1 in /opt/conda/lib/python3.10/site-packages (from tensorflow) (0.4.0)\n",
      "Requirement already satisfied: libclang>=13.0.0 in /opt/conda/lib/python3.10/site-packages (from tensorflow) (16.0.6)\n",
      "Requirement already satisfied: google-pasta>=0.1.1 in /opt/conda/lib/python3.10/site-packages (from tensorflow) (0.2.0)\n",
      "Requirement already satisfied: wheel<1.0,>=0.23.0 in /opt/conda/lib/python3.10/site-packages (from astunparse>=1.6.0->tensorflow) (0.38.4)\n",
      "Requirement already satisfied: google-auth-oauthlib<1.1,>=0.5 in /opt/conda/lib/python3.10/site-packages (from tensorboard<2.14,>=2.13->tensorflow) (1.0.0)\n",
      "Requirement already satisfied: google-auth<3,>=1.6.3 in /opt/conda/lib/python3.10/site-packages (from tensorboard<2.14,>=2.13->tensorflow) (2.22.0)\n",
      "Requirement already satisfied: tensorboard-data-server<0.8.0,>=0.7.0 in /opt/conda/lib/python3.10/site-packages (from tensorboard<2.14,>=2.13->tensorflow) (0.7.1)\n",
      "Requirement already satisfied: werkzeug>=1.0.1 in /opt/conda/lib/python3.10/site-packages (from tensorboard<2.14,>=2.13->tensorflow) (2.3.6)\n",
      "Requirement already satisfied: markdown>=2.6.8 in /opt/conda/lib/python3.10/site-packages (from tensorboard<2.14,>=2.13->tensorflow) (3.4.3)\n",
      "Requirement already satisfied: requests<3,>=2.21.0 in /opt/conda/lib/python3.10/site-packages (from tensorboard<2.14,>=2.13->tensorflow) (2.28.1)\n",
      "Requirement already satisfied: pyasn1-modules>=0.2.1 in /opt/conda/lib/python3.10/site-packages (from google-auth<3,>=1.6.3->tensorboard<2.14,>=2.13->tensorflow) (0.3.0)\n",
      "Requirement already satisfied: urllib3<2.0 in /opt/conda/lib/python3.10/site-packages (from google-auth<3,>=1.6.3->tensorboard<2.14,>=2.13->tensorflow) (1.26.13)\n",
      "Requirement already satisfied: rsa<5,>=3.1.4 in /opt/conda/lib/python3.10/site-packages (from google-auth<3,>=1.6.3->tensorboard<2.14,>=2.13->tensorflow) (4.9)\n",
      "Requirement already satisfied: cachetools<6.0,>=2.0.0 in /opt/conda/lib/python3.10/site-packages (from google-auth<3,>=1.6.3->tensorboard<2.14,>=2.13->tensorflow) (5.3.1)\n",
      "Requirement already satisfied: requests-oauthlib>=0.7.0 in /opt/conda/lib/python3.10/site-packages (from google-auth-oauthlib<1.1,>=0.5->tensorboard<2.14,>=2.13->tensorflow) (1.3.1)\n",
      "Requirement already satisfied: charset-normalizer<3,>=2 in /opt/conda/lib/python3.10/site-packages (from requests<3,>=2.21.0->tensorboard<2.14,>=2.13->tensorflow) (2.1.1)\n",
      "Requirement already satisfied: certifi>=2017.4.17 in /opt/conda/lib/python3.10/site-packages (from requests<3,>=2.21.0->tensorboard<2.14,>=2.13->tensorflow) (2022.12.7)\n",
      "Requirement already satisfied: idna<4,>=2.5 in /opt/conda/lib/python3.10/site-packages (from requests<3,>=2.21.0->tensorboard<2.14,>=2.13->tensorflow) (3.4)\n",
      "Requirement already satisfied: MarkupSafe>=2.1.1 in /opt/conda/lib/python3.10/site-packages (from werkzeug>=1.0.1->tensorboard<2.14,>=2.13->tensorflow) (2.1.1)\n",
      "Requirement already satisfied: pyasn1<0.6.0,>=0.4.6 in /opt/conda/lib/python3.10/site-packages (from pyasn1-modules>=0.2.1->google-auth<3,>=1.6.3->tensorboard<2.14,>=2.13->tensorflow) (0.5.0)\n",
      "Requirement already satisfied: oauthlib>=3.0.0 in /opt/conda/lib/python3.10/site-packages (from requests-oauthlib>=0.7.0->google-auth-oauthlib<1.1,>=0.5->tensorboard<2.14,>=2.13->tensorflow) (3.2.2)\n",
      "Note: you may need to restart the kernel to use updated packages.\n",
      "Requirement already satisfied: keras in /opt/conda/lib/python3.10/site-packages (2.13.1)\n",
      "Note: you may need to restart the kernel to use updated packages.\n"
     ]
    }
   ],
   "source": [
    "%pip install tensorflow\n",
    "%pip install keras"
   ]
  },
  {
   "cell_type": "code",
   "execution_count": 76,
   "id": "0f141a58-6d1c-4e80-9f0a-eebcf53a3876",
   "metadata": {},
   "outputs": [],
   "source": [
    "import tensorflow as tf\n",
    "import keras"
   ]
  },
  {
   "cell_type": "code",
   "execution_count": 77,
   "id": "deb73089-aa3e-47e3-be3d-33f94c88fc9c",
   "metadata": {},
   "outputs": [
    {
     "name": "stdout",
     "output_type": "stream",
     "text": [
      "Tensorflow Version: 2.13.0\n",
      "Keras Version: 2.13.1\n"
     ]
    }
   ],
   "source": [
    "print(\"Tensorflow Version:\",tf.__version__)\n",
    "print(\"Keras Version:\",keras.__version__)"
   ]
  },
  {
   "cell_type": "markdown",
   "id": "1c3ba141-dd08-42c1-b46a-b0dadb3af00e",
   "metadata": {},
   "source": [
    "### Q2. Load the Wine Quality dataset and explore its dimensions.Dataset link:https://www.kaggle.com/datasets/nareshbhat/wine-quality-binary-classification"
   ]
  },
  {
   "cell_type": "code",
   "execution_count": 78,
   "id": "ab38edf3-eb0d-49fe-bd97-6ce324ea3bda",
   "metadata": {},
   "outputs": [],
   "source": [
    "import pandas as pd"
   ]
  },
  {
   "cell_type": "code",
   "execution_count": 79,
   "id": "592334eb-68a3-412d-a16a-379c08cb8e95",
   "metadata": {},
   "outputs": [],
   "source": [
    "data=pd.read_csv('winequality.csv')"
   ]
  },
  {
   "cell_type": "code",
   "execution_count": 80,
   "id": "19a253d3-b394-44e5-ba14-add9553e7a32",
   "metadata": {},
   "outputs": [
    {
     "name": "stdout",
     "output_type": "stream",
     "text": [
      "Dimension of the given dataset: (1599, 12)\n"
     ]
    }
   ],
   "source": [
    "print(\"Dimension of the given dataset:\",data.shape)"
   ]
  },
  {
   "cell_type": "markdown",
   "id": "847ed1e6-9dad-4e4e-a329-c5b3f9b9a202",
   "metadata": {},
   "source": [
    "### Q3. Check for null values, identify categorical variables, and encode them."
   ]
  },
  {
   "cell_type": "code",
   "execution_count": 81,
   "id": "b11ea345-2dbe-4ba2-902f-a466bfdd9d43",
   "metadata": {},
   "outputs": [
    {
     "data": {
      "text/plain": [
       "0"
      ]
     },
     "execution_count": 81,
     "metadata": {},
     "output_type": "execute_result"
    }
   ],
   "source": [
    "## cheking null values\n",
    "data.isnull().sum().sum()"
   ]
  },
  {
   "cell_type": "code",
   "execution_count": 82,
   "id": "5fca3e99-2336-4c5e-bf53-5624380bddc2",
   "metadata": {},
   "outputs": [],
   "source": [
    "# identify categorical variables\n",
    "cat_vars=data.select_dtypes(include='object').columns.tolist()"
   ]
  },
  {
   "cell_type": "code",
   "execution_count": 83,
   "id": "ce18e580-70a1-4cc0-a52f-40a4fc11a1ba",
   "metadata": {},
   "outputs": [
    {
     "name": "stdout",
     "output_type": "stream",
     "text": [
      "Categorical vriables: []\n"
     ]
    }
   ],
   "source": [
    "print(\"Categorical vriables:\",cat_vars)"
   ]
  },
  {
   "cell_type": "markdown",
   "id": "f3702f80-bcfb-4ee2-92c4-25e8b8d89276",
   "metadata": {},
   "source": [
    "In this datasets neither present null values nor present categorical variables"
   ]
  },
  {
   "cell_type": "markdown",
   "id": "8651489e-ae38-485f-bf40-ebe5c0e9f8d5",
   "metadata": {},
   "source": [
    "### Q4. Separate the features and target variables from the dataframe."
   ]
  },
  {
   "cell_type": "code",
   "execution_count": 84,
   "id": "bf052c33-bcb5-498e-bd63-12d77f20d9b5",
   "metadata": {},
   "outputs": [
    {
     "data": {
      "text/html": [
       "<div>\n",
       "<style scoped>\n",
       "    .dataframe tbody tr th:only-of-type {\n",
       "        vertical-align: middle;\n",
       "    }\n",
       "\n",
       "    .dataframe tbody tr th {\n",
       "        vertical-align: top;\n",
       "    }\n",
       "\n",
       "    .dataframe thead th {\n",
       "        text-align: right;\n",
       "    }\n",
       "</style>\n",
       "<table border=\"1\" class=\"dataframe\">\n",
       "  <thead>\n",
       "    <tr style=\"text-align: right;\">\n",
       "      <th></th>\n",
       "      <th>fixed acidity</th>\n",
       "      <th>volatile acidity</th>\n",
       "      <th>citric acid</th>\n",
       "      <th>residual sugar</th>\n",
       "      <th>chlorides</th>\n",
       "      <th>free sulfur dioxide</th>\n",
       "      <th>total sulfur dioxide</th>\n",
       "      <th>density</th>\n",
       "      <th>pH</th>\n",
       "      <th>sulphates</th>\n",
       "      <th>alcohol</th>\n",
       "      <th>quality</th>\n",
       "    </tr>\n",
       "  </thead>\n",
       "  <tbody>\n",
       "    <tr>\n",
       "      <th>0</th>\n",
       "      <td>7.4</td>\n",
       "      <td>0.70</td>\n",
       "      <td>0.00</td>\n",
       "      <td>1.9</td>\n",
       "      <td>0.076</td>\n",
       "      <td>11.0</td>\n",
       "      <td>34.0</td>\n",
       "      <td>0.9978</td>\n",
       "      <td>3.51</td>\n",
       "      <td>0.56</td>\n",
       "      <td>9.4</td>\n",
       "      <td>5</td>\n",
       "    </tr>\n",
       "    <tr>\n",
       "      <th>1</th>\n",
       "      <td>7.8</td>\n",
       "      <td>0.88</td>\n",
       "      <td>0.00</td>\n",
       "      <td>2.6</td>\n",
       "      <td>0.098</td>\n",
       "      <td>25.0</td>\n",
       "      <td>67.0</td>\n",
       "      <td>0.9968</td>\n",
       "      <td>3.20</td>\n",
       "      <td>0.68</td>\n",
       "      <td>9.8</td>\n",
       "      <td>5</td>\n",
       "    </tr>\n",
       "    <tr>\n",
       "      <th>2</th>\n",
       "      <td>7.8</td>\n",
       "      <td>0.76</td>\n",
       "      <td>0.04</td>\n",
       "      <td>2.3</td>\n",
       "      <td>0.092</td>\n",
       "      <td>15.0</td>\n",
       "      <td>54.0</td>\n",
       "      <td>0.9970</td>\n",
       "      <td>3.26</td>\n",
       "      <td>0.65</td>\n",
       "      <td>9.8</td>\n",
       "      <td>5</td>\n",
       "    </tr>\n",
       "    <tr>\n",
       "      <th>3</th>\n",
       "      <td>11.2</td>\n",
       "      <td>0.28</td>\n",
       "      <td>0.56</td>\n",
       "      <td>1.9</td>\n",
       "      <td>0.075</td>\n",
       "      <td>17.0</td>\n",
       "      <td>60.0</td>\n",
       "      <td>0.9980</td>\n",
       "      <td>3.16</td>\n",
       "      <td>0.58</td>\n",
       "      <td>9.8</td>\n",
       "      <td>6</td>\n",
       "    </tr>\n",
       "    <tr>\n",
       "      <th>4</th>\n",
       "      <td>7.4</td>\n",
       "      <td>0.70</td>\n",
       "      <td>0.00</td>\n",
       "      <td>1.9</td>\n",
       "      <td>0.076</td>\n",
       "      <td>11.0</td>\n",
       "      <td>34.0</td>\n",
       "      <td>0.9978</td>\n",
       "      <td>3.51</td>\n",
       "      <td>0.56</td>\n",
       "      <td>9.4</td>\n",
       "      <td>5</td>\n",
       "    </tr>\n",
       "  </tbody>\n",
       "</table>\n",
       "</div>"
      ],
      "text/plain": [
       "   fixed acidity  volatile acidity  citric acid  residual sugar  chlorides  \\\n",
       "0            7.4              0.70         0.00             1.9      0.076   \n",
       "1            7.8              0.88         0.00             2.6      0.098   \n",
       "2            7.8              0.76         0.04             2.3      0.092   \n",
       "3           11.2              0.28         0.56             1.9      0.075   \n",
       "4            7.4              0.70         0.00             1.9      0.076   \n",
       "\n",
       "   free sulfur dioxide  total sulfur dioxide  density    pH  sulphates  \\\n",
       "0                 11.0                  34.0   0.9978  3.51       0.56   \n",
       "1                 25.0                  67.0   0.9968  3.20       0.68   \n",
       "2                 15.0                  54.0   0.9970  3.26       0.65   \n",
       "3                 17.0                  60.0   0.9980  3.16       0.58   \n",
       "4                 11.0                  34.0   0.9978  3.51       0.56   \n",
       "\n",
       "   alcohol  quality  \n",
       "0      9.4        5  \n",
       "1      9.8        5  \n",
       "2      9.8        5  \n",
       "3      9.8        6  \n",
       "4      9.4        5  "
      ]
     },
     "execution_count": 84,
     "metadata": {},
     "output_type": "execute_result"
    }
   ],
   "source": [
    "data.head()"
   ]
  },
  {
   "cell_type": "code",
   "execution_count": 130,
   "id": "02c96837-3a7b-491b-9e31-62b260341e2f",
   "metadata": {},
   "outputs": [],
   "source": [
    "target_cols='quality'\n",
    "x=data.drop(columns=target_cols,axis=1) # seprate the features from the dataset\n",
    "y=data[target_cols] #seprate the target from the dataset\n",
    "y=y.map({0:0,1:0,2:0,3:0,4:0,5:0,6:1,7:1,8:1,9:1,10:1})"
   ]
  },
  {
   "cell_type": "markdown",
   "id": "bd4928ce-b74d-4e13-a786-59586c17b73f",
   "metadata": {},
   "source": [
    "### Q5. Perform a train-test split and divide the data into training, validation, and test datasets."
   ]
  },
  {
   "cell_type": "code",
   "execution_count": 131,
   "id": "0e6c9a62-497a-4dd2-bf47-53c345be1edf",
   "metadata": {},
   "outputs": [],
   "source": [
    "from sklearn.model_selection import train_test_split"
   ]
  },
  {
   "cell_type": "code",
   "execution_count": 132,
   "id": "f8c3de4b-944e-4b78-a9c4-9787adc46496",
   "metadata": {},
   "outputs": [],
   "source": [
    "# split the datasets in to train and test\n",
    "X_train,X_test,y_train,y_test=train_test_split(x,y,test_size=0.2,random_state=42)"
   ]
  },
  {
   "cell_type": "code",
   "execution_count": 133,
   "id": "f0a8a25b-c24c-417d-a7d1-0cc54e4bc3d0",
   "metadata": {},
   "outputs": [],
   "source": [
    "# split the dataset in to train and validation set\n",
    "X_train,X_val,y_train,y_val=train_test_split(X_train,y_train,test_size=0.2,random_state=42)"
   ]
  },
  {
   "cell_type": "markdown",
   "id": "7d32a128-20b8-4b5d-bbf1-fed7cf850886",
   "metadata": {},
   "source": [
    "### Q6. Perform scaling on the dataset."
   ]
  },
  {
   "cell_type": "code",
   "execution_count": 134,
   "id": "668c0c3a-faf2-4fd8-95e9-34be32cb1c8f",
   "metadata": {},
   "outputs": [],
   "source": [
    "from sklearn.preprocessing import StandardScaler"
   ]
  },
  {
   "cell_type": "code",
   "execution_count": 135,
   "id": "826772f5-891d-4e3a-9303-f3e84cc2a5a5",
   "metadata": {},
   "outputs": [],
   "source": [
    "scaler=StandardScaler()"
   ]
  },
  {
   "cell_type": "code",
   "execution_count": 136,
   "id": "50cfb3cb-7d97-4744-ac5a-c73520809c84",
   "metadata": {},
   "outputs": [],
   "source": [
    "X_train_scaled=scaler.fit_transform(X_train) # Scalled train data\n",
    "X_val_scaled=scaler.transform(X_val) # Scaled validation data\n",
    "X_test_scaled=scaler.transform(X_test) # Scaled test data"
   ]
  },
  {
   "cell_type": "markdown",
   "id": "a41c0880-8612-42f9-ac4f-bd05672541a7",
   "metadata": {},
   "source": [
    "### Q7. Create at least 2 hidden layers and an output layer for the binary categorical variables."
   ]
  },
  {
   "cell_type": "code",
   "execution_count": 137,
   "id": "ae1b3835-9fcc-4b03-b743-5041b556a127",
   "metadata": {},
   "outputs": [],
   "source": [
    "from keras.models import Sequential\n",
    "from keras.layers import Dense"
   ]
  },
  {
   "cell_type": "code",
   "execution_count": 138,
   "id": "a5084907-88a0-45aa-8591-5573dadb15f3",
   "metadata": {},
   "outputs": [],
   "source": [
    "model=Sequential()"
   ]
  },
  {
   "cell_type": "code",
   "execution_count": 139,
   "id": "66f93e3e-737c-457e-9009-be0bc6f40e21",
   "metadata": {},
   "outputs": [],
   "source": [
    "# creating Hidden layers\n",
    "model.add(Dense(units=128,activation='relu',input_shape=(X_train_scaled.shape[1],)))\n",
    "model.add(Dense(units=64,activation='relu'))"
   ]
  },
  {
   "cell_type": "code",
   "execution_count": 140,
   "id": "6f190e7c-f230-4d9a-9e18-f0b89865175b",
   "metadata": {},
   "outputs": [],
   "source": [
    "model.add(Dense(units=1,activation='softmax')) # Output layers"
   ]
  },
  {
   "cell_type": "markdown",
   "id": "6028b0f9-1827-4dbe-840a-68c456f6d5bd",
   "metadata": {},
   "source": [
    "### Q8. Create a Sequential model and add all the layers to it."
   ]
  },
  {
   "cell_type": "code",
   "execution_count": 141,
   "id": "8ce10893-94c2-4f6a-b1a6-dd05e93fa6b2",
   "metadata": {},
   "outputs": [],
   "source": [
    "model=Sequential()\n",
    "model.add(Dense(units=128,activation='relu',input_shape=(X_train_scaled.shape[1],)))\n",
    "model.add(Dense(units=64,activation='relu'))\n",
    "model.add(Dense(units=1,activation='softmax')) # Output layers"
   ]
  },
  {
   "cell_type": "markdown",
   "id": "65c3d973-fec7-4242-8244-9654c217d058",
   "metadata": {},
   "source": [
    "### Q9. Implement a TensorBoard callback to visualize and monitor the model's training process."
   ]
  },
  {
   "cell_type": "code",
   "execution_count": 142,
   "id": "95fc3b5a-7feb-4e78-9925-d6820900c340",
   "metadata": {},
   "outputs": [],
   "source": [
    "from keras.callbacks import TensorBoard"
   ]
  },
  {
   "cell_type": "code",
   "execution_count": 143,
   "id": "20f17b8b-d5b9-41bb-ace4-86d6218f5a7c",
   "metadata": {},
   "outputs": [],
   "source": [
    "# compile the model before adding callback\n",
    "model.compile(optimizer='adam',loss='binary_crossentropy',metrics=['accuracy'])"
   ]
  },
  {
   "cell_type": "code",
   "execution_count": 144,
   "id": "e9c9048f-b3d8-460d-8457-05234797f020",
   "metadata": {},
   "outputs": [],
   "source": [
    "tensorboard_callback=TensorBoard(log_dir='./log',histogram_freq=1)"
   ]
  },
  {
   "cell_type": "code",
   "execution_count": 145,
   "id": "814da0ab-7147-4053-ae45-94fe6466e842",
   "metadata": {},
   "outputs": [
    {
     "name": "stdout",
     "output_type": "stream",
     "text": [
      "32/32 [==============================] - 1s 4ms/step - loss: 0.5976 - accuracy: 0.5425\n"
     ]
    },
    {
     "data": {
      "text/plain": [
       "<keras.src.callbacks.History at 0x7fd568530400>"
      ]
     },
     "execution_count": 145,
     "metadata": {},
     "output_type": "execute_result"
    }
   ],
   "source": [
    "model.fit(X_train_scaled,y_train,callbacks=[tensorboard_callback])"
   ]
  },
  {
   "cell_type": "markdown",
   "id": "de3072c5-4a42-4561-9766-be5c576de10d",
   "metadata": {},
   "source": [
    "### Q10. Use Early Stopping to prevent overfitting by monitoring a chosen metric and stopping the training if no improvement is observed."
   ]
  },
  {
   "cell_type": "code",
   "execution_count": 146,
   "id": "753afb6a-8d2f-421a-a19f-dd20e4b5858c",
   "metadata": {},
   "outputs": [],
   "source": [
    "from keras.callbacks import EarlyStopping"
   ]
  },
  {
   "cell_type": "code",
   "execution_count": 147,
   "id": "4a93846d-b23a-4502-ba98-2d0e745697e6",
   "metadata": {},
   "outputs": [],
   "source": [
    "early_stopping_callback=EarlyStopping(monitor='val_loss',patience=5,restore_best_weights=True)"
   ]
  },
  {
   "cell_type": "code",
   "execution_count": 148,
   "id": "c9c4b2c2-36e2-48ea-916e-05744c8768b2",
   "metadata": {},
   "outputs": [
    {
     "name": "stdout",
     "output_type": "stream",
     "text": [
      "28/32 [=========================>....] - ETA: 0s - loss: 0.5168 - accuracy: 0.5480WARNING:tensorflow:Early stopping conditioned on metric `val_loss` which is not available. Available metrics are: loss,accuracy\n",
      "32/32 [==============================] - 0s 2ms/step - loss: 0.5203 - accuracy: 0.5425\n"
     ]
    },
    {
     "data": {
      "text/plain": [
       "<keras.src.callbacks.History at 0x7fd4e85f56c0>"
      ]
     },
     "execution_count": 148,
     "metadata": {},
     "output_type": "execute_result"
    }
   ],
   "source": [
    "model.fit(X_train_scaled,y_train,callbacks=[early_stopping_callback])"
   ]
  },
  {
   "cell_type": "markdown",
   "id": "1ca7115b-6872-40bb-be9a-bb79b10dba71",
   "metadata": {},
   "source": [
    "### Q11. Implement a ModelCheckpoint callback to save the best model based on a chosen metric during training."
   ]
  },
  {
   "cell_type": "code",
   "execution_count": 149,
   "id": "d4b7965f-1182-4327-8057-5fae8af3a23c",
   "metadata": {},
   "outputs": [],
   "source": [
    "from keras.callbacks import ModelCheckpoint"
   ]
  },
  {
   "cell_type": "code",
   "execution_count": 150,
   "id": "16a28c1c-45f2-48ca-9b9f-3e2566c7a304",
   "metadata": {},
   "outputs": [],
   "source": [
    "model_checkpoint_callback=ModelCheckpoint(filepath='best_model.h5', monitor='val_accuracy', save_best_only=True)"
   ]
  },
  {
   "cell_type": "code",
   "execution_count": 151,
   "id": "4daf3612-a0df-499f-9ae8-ec6e0fe348d0",
   "metadata": {},
   "outputs": [
    {
     "name": "stdout",
     "output_type": "stream",
     "text": [
      "26/32 [=======================>......] - ETA: 0s - loss: 0.5099 - accuracy: 0.5349WARNING:tensorflow:Can save best model only with val_accuracy available, skipping.\n",
      "32/32 [==============================] - 0s 2ms/step - loss: 0.5013 - accuracy: 0.5425\n"
     ]
    },
    {
     "data": {
      "text/plain": [
       "<keras.src.callbacks.History at 0x7fd4e85a66b0>"
      ]
     },
     "execution_count": 151,
     "metadata": {},
     "output_type": "execute_result"
    }
   ],
   "source": [
    "model.fit(X_train_scaled,y_train,callbacks=[model_checkpoint_callback])"
   ]
  },
  {
   "cell_type": "markdown",
   "id": "30fb3c1f-d7fb-40a4-ba34-eb9fca4363e1",
   "metadata": {},
   "source": [
    "### Q12. Print the model summary."
   ]
  },
  {
   "cell_type": "code",
   "execution_count": 152,
   "id": "748993bc-09a8-4525-973e-0e204b0ee51c",
   "metadata": {},
   "outputs": [
    {
     "name": "stdout",
     "output_type": "stream",
     "text": [
      "Model: \"sequential_5\"\n",
      "_________________________________________________________________\n",
      " Layer (type)                Output Shape              Param #   \n",
      "=================================================================\n",
      " dense_23 (Dense)            (None, 128)               1536      \n",
      "                                                                 \n",
      " dense_24 (Dense)            (None, 64)                8256      \n",
      "                                                                 \n",
      " dense_25 (Dense)            (None, 1)                 65        \n",
      "                                                                 \n",
      "=================================================================\n",
      "Total params: 9857 (38.50 KB)\n",
      "Trainable params: 9857 (38.50 KB)\n",
      "Non-trainable params: 0 (0.00 Byte)\n",
      "_________________________________________________________________\n"
     ]
    }
   ],
   "source": [
    "# Print the model summary\n",
    "model.summary()"
   ]
  },
  {
   "cell_type": "markdown",
   "id": "9daec302-b0f4-4ecc-abd4-705e1e5e54ea",
   "metadata": {},
   "source": [
    "### Q13. Use binary cross-entropy as the loss function, Adam optimizer, and include the metric ['accuracy']."
   ]
  },
  {
   "cell_type": "code",
   "execution_count": 153,
   "id": "7dd976c8-3a96-4574-9ad2-c4402d5f49c3",
   "metadata": {},
   "outputs": [],
   "source": [
    "model.compile(optimizer='adam',loss='binary_crossentropy',metrics=['accuracy'])"
   ]
  },
  {
   "cell_type": "markdown",
   "id": "e9936b47-d4e6-4848-8f3d-c231c537f800",
   "metadata": {},
   "source": [
    "### Q14. Compile the model with the specified loss function, optimizer, and metrics."
   ]
  },
  {
   "cell_type": "code",
   "execution_count": 154,
   "id": "b2d35b03-629b-41b8-88fd-80e0a58a8421",
   "metadata": {},
   "outputs": [],
   "source": [
    "model.compile(optimizer='adam',loss='binary_crossentropy',metrics=['accuracy'])"
   ]
  },
  {
   "cell_type": "markdown",
   "id": "3ecce0c2-b376-4fb8-ab19-58043c62ce1d",
   "metadata": {},
   "source": [
    "### Q15. Fit the model to the data, incorporating the TensorBoard, Early Stopping, and ModelCheckpoint callbacks."
   ]
  },
  {
   "cell_type": "code",
   "execution_count": 155,
   "id": "7a567ee6-52ae-4f6a-be1a-57b68b6411a0",
   "metadata": {},
   "outputs": [
    {
     "name": "stdout",
     "output_type": "stream",
     "text": [
      "Epoch 1/100\n",
      "16/16 [==============================] - 1s 20ms/step - loss: 0.4969 - accuracy: 0.5425 - val_loss: 0.5255 - val_accuracy: 0.4727\n",
      "Epoch 2/100\n",
      "16/16 [==============================] - 0s 8ms/step - loss: 0.4865 - accuracy: 0.5425 - val_loss: 0.5305 - val_accuracy: 0.4727\n",
      "Epoch 3/100\n",
      " 1/16 [>.............................] - ETA: 0s - loss: 0.3911 - accuracy: 0.5312"
     ]
    },
    {
     "name": "stderr",
     "output_type": "stream",
     "text": [
      "/opt/conda/lib/python3.10/site-packages/keras/src/engine/training.py:3000: UserWarning: You are saving your model as an HDF5 file via `model.save()`. This file format is considered legacy. We recommend using instead the native Keras format, e.g. `model.save('my_model.keras')`.\n",
      "  saving_api.save_model(\n"
     ]
    },
    {
     "name": "stdout",
     "output_type": "stream",
     "text": [
      "16/16 [==============================] - 0s 8ms/step - loss: 0.4787 - accuracy: 0.5425 - val_loss: 0.5288 - val_accuracy: 0.4727\n",
      "Epoch 4/100\n",
      "16/16 [==============================] - 0s 9ms/step - loss: 0.4699 - accuracy: 0.5425 - val_loss: 0.5295 - val_accuracy: 0.4727\n",
      "Epoch 5/100\n",
      "16/16 [==============================] - 0s 8ms/step - loss: 0.4650 - accuracy: 0.5425 - val_loss: 0.5298 - val_accuracy: 0.4727\n",
      "Epoch 6/100\n",
      "16/16 [==============================] - 0s 8ms/step - loss: 0.4605 - accuracy: 0.5425 - val_loss: 0.5317 - val_accuracy: 0.4727\n"
     ]
    }
   ],
   "source": [
    "history=model.fit(X_train_scaled,y_train,batch_size=64,epochs=100,validation_data=(X_val_scaled,y_val),callbacks=[tensorboard_callback,early_stopping_callback,model_checkpoint_callback])"
   ]
  },
  {
   "cell_type": "markdown",
   "id": "0d15bc50-e5a9-4c00-94cc-1e6ca3ff491c",
   "metadata": {},
   "source": [
    "### Q16. Get the model's parameters."
   ]
  },
  {
   "cell_type": "code",
   "execution_count": 156,
   "id": "0e11c667-fe3f-4431-a39d-d0f1cf743c30",
   "metadata": {},
   "outputs": [],
   "source": [
    "# Get the model's parameters\n",
    "model_params = model.get_weights()"
   ]
  },
  {
   "cell_type": "code",
   "execution_count": 157,
   "id": "69d64af7-67ea-4957-8ca0-b2a25974ccc2",
   "metadata": {},
   "outputs": [
    {
     "data": {
      "text/plain": [
       "[array([[-0.06066931, -0.14578122,  0.06531814, ..., -0.12167258,\n",
       "         -0.06276134,  0.02455359],\n",
       "        [-0.15272614,  0.1315262 ,  0.07995518, ..., -0.12592855,\n",
       "         -0.07710034,  0.17607823],\n",
       "        [-0.16398712, -0.01931824,  0.0640099 , ..., -0.19740029,\n",
       "          0.19118452,  0.05894719],\n",
       "        ...,\n",
       "        [-0.04084614,  0.18435796, -0.03261876, ...,  0.02473263,\n",
       "         -0.08968369,  0.00513299],\n",
       "        [ 0.06468167, -0.2181557 , -0.16950218, ...,  0.05893707,\n",
       "          0.04004785, -0.02203499],\n",
       "        [ 0.06427471,  0.1068516 , -0.2071054 , ...,  0.01466282,\n",
       "          0.15049231, -0.11600223]], dtype=float32),\n",
       " array([ 1.9813353e-02, -1.1219282e-02,  9.1753742e-03,  4.2532561e-03,\n",
       "         2.1377441e-03, -2.9818311e-03,  2.7403638e-02, -3.2845279e-03,\n",
       "        -4.4942413e-02,  3.2014694e-02,  1.4285699e-02,  1.5817361e-02,\n",
       "        -1.1690047e-03,  2.6102641e-03,  5.2071055e-03, -1.2568193e-02,\n",
       "        -2.8757839e-03,  1.0278175e-02,  3.2421377e-02, -1.9474315e-02,\n",
       "         3.0405531e-02,  3.5516281e-02, -1.9393021e-02, -8.3935168e-03,\n",
       "         1.7232265e-02,  2.8230673e-02, -2.6449200e-02,  1.7528592e-02,\n",
       "        -9.4721876e-03,  1.0004313e-02,  3.4676995e-02,  4.4798389e-02,\n",
       "        -1.2219453e-02, -4.3932986e-04,  1.6855683e-02,  4.9671642e-02,\n",
       "        -3.1724140e-02,  7.0245489e-03, -2.3881067e-02,  1.8919900e-02,\n",
       "         1.3053089e-02, -8.5293194e-03,  1.6594660e-02, -1.4234589e-05,\n",
       "        -1.2934906e-02, -1.0864216e-02,  1.5297845e-02,  3.7791945e-02,\n",
       "        -4.0291129e-03,  4.7922092e-03,  1.0205108e-02, -1.4294436e-02,\n",
       "         1.2525391e-03, -1.5212301e-02, -1.4614536e-02,  6.3234242e-04,\n",
       "        -3.9027403e-03, -1.8364850e-03,  6.9775046e-03,  1.9600898e-02,\n",
       "        -1.0613785e-02, -9.1018053e-03,  6.1601179e-04,  2.8004495e-02,\n",
       "        -1.0861178e-02, -5.7157087e-03, -2.1313269e-02,  1.7789610e-02,\n",
       "        -2.4197299e-02,  8.6829625e-03,  2.5566604e-02,  2.1940932e-02,\n",
       "         3.7913106e-02,  2.6030906e-02, -1.5675956e-02,  1.0642915e-02,\n",
       "        -1.0508442e-02,  7.4054068e-03, -2.7191138e-02,  8.8140266e-03,\n",
       "        -5.1861082e-04, -1.0512151e-02, -6.4294315e-03, -1.2817214e-02,\n",
       "         7.4059158e-03,  2.5193246e-02, -8.3329603e-03,  2.2180328e-02,\n",
       "         1.2875641e-02,  4.9619600e-02,  8.4164110e-04,  2.9950835e-02,\n",
       "         6.1871484e-04,  1.1715157e-02,  1.2135529e-02, -5.0288034e-03,\n",
       "         7.9974346e-03, -1.4720808e-02,  1.8953172e-02,  3.3751200e-03,\n",
       "        -3.5403140e-02,  2.0210019e-03,  2.8470419e-02,  3.5951830e-02,\n",
       "         5.1761693e-03, -5.3162654e-03, -4.1754436e-02,  5.7023205e-03,\n",
       "         7.9532061e-03, -3.9027791e-02,  5.9315376e-03,  8.2740886e-03,\n",
       "         3.4395177e-02,  1.4368279e-02, -2.9002089e-02, -2.0308902e-02,\n",
       "        -1.7984873e-02,  1.2834783e-02,  1.0590512e-02, -5.9554735e-03,\n",
       "         8.0138519e-03,  5.1238402e-03,  3.8123257e-02, -1.2931016e-02,\n",
       "        -3.9313354e-02, -1.6515536e-02,  5.1389160e-03, -2.3246508e-03],\n",
       "       dtype=float32),\n",
       " array([[ 0.10448104,  0.03418121,  0.14648144, ..., -0.11022112,\n",
       "         -0.02887282, -0.02278404],\n",
       "        [-0.09585886,  0.06451107, -0.11964958, ..., -0.01153906,\n",
       "         -0.14368425, -0.13769409],\n",
       "        [-0.15369989,  0.11621168, -0.11314458, ..., -0.02482023,\n",
       "          0.17159136, -0.14290728],\n",
       "        ...,\n",
       "        [-0.0284627 , -0.00069116, -0.05840331, ...,  0.12739135,\n",
       "          0.02988017, -0.15819927],\n",
       "        [ 0.04074377,  0.18478954,  0.00052162, ...,  0.01301806,\n",
       "         -0.02588798, -0.08672726],\n",
       "        [-0.12406537, -0.12990333, -0.1173884 , ...,  0.08855215,\n",
       "         -0.07652707, -0.05197072]], dtype=float32),\n",
       " array([ 0.00405622,  0.01122143,  0.02878666,  0.02410237,  0.00272938,\n",
       "         0.03250079, -0.01713832,  0.0314245 ,  0.01435356, -0.00197816,\n",
       "        -0.01086849,  0.00743601, -0.00525878,  0.0134778 ,  0.01923029,\n",
       "         0.00637735, -0.00610711,  0.00139266,  0.00994396, -0.00220024,\n",
       "         0.02423555,  0.00030626,  0.0179976 ,  0.00059769, -0.00648383,\n",
       "         0.01742444,  0.01130508, -0.01418039,  0.01023623,  0.00199891,\n",
       "        -0.00156034,  0.00922167,  0.01435991,  0.0232157 ,  0.00030911,\n",
       "         0.00162093, -0.00746252, -0.00404799, -0.00838991,  0.02070438,\n",
       "        -0.01007789, -0.01645335,  0.01187828, -0.00596649,  0.02022973,\n",
       "         0.0171298 , -0.0031445 , -0.0140121 , -0.01547757, -0.01990644,\n",
       "         0.00293991,  0.02503238,  0.03012396, -0.02548615, -0.00568333,\n",
       "        -0.0038641 ,  0.01373717, -0.00405454,  0.00585977,  0.02407338,\n",
       "         0.00954513,  0.01681824,  0.00770058,  0.02215578], dtype=float32),\n",
       " array([[ 0.27757254],\n",
       "        [ 0.28450254],\n",
       "        [ 0.20126869],\n",
       "        [-0.05505776],\n",
       "        [ 0.08232151],\n",
       "        [ 0.12090217],\n",
       "        [-0.25340557],\n",
       "        [-0.3222664 ],\n",
       "        [-0.14663298],\n",
       "        [-0.10054337],\n",
       "        [-0.12795176],\n",
       "        [ 0.26080766],\n",
       "        [-0.26419905],\n",
       "        [ 0.15188026],\n",
       "        [ 0.29278654],\n",
       "        [-0.09811012],\n",
       "        [-0.03103345],\n",
       "        [-0.27686906],\n",
       "        [ 0.1961526 ],\n",
       "        [-0.25800794],\n",
       "        [ 0.19891599],\n",
       "        [-0.14350632],\n",
       "        [ 0.32197785],\n",
       "        [-0.16684398],\n",
       "        [-0.0394446 ],\n",
       "        [ 0.2794718 ],\n",
       "        [ 0.29068238],\n",
       "        [-0.07515885],\n",
       "        [-0.31570622],\n",
       "        [ 0.18130921],\n",
       "        [-0.24921156],\n",
       "        [ 0.2638562 ],\n",
       "        [ 0.21014185],\n",
       "        [-0.23353074],\n",
       "        [-0.07018614],\n",
       "        [ 0.2526289 ],\n",
       "        [-0.13159347],\n",
       "        [ 0.269737  ],\n",
       "        [ 0.24787456],\n",
       "        [-0.24446796],\n",
       "        [-0.11666612],\n",
       "        [-0.0402092 ],\n",
       "        [ 0.03594291],\n",
       "        [-0.14507376],\n",
       "        [ 0.06632932],\n",
       "        [-0.27140015],\n",
       "        [ 0.21845879],\n",
       "        [ 0.01205936],\n",
       "        [ 0.28501922],\n",
       "        [-0.08648624],\n",
       "        [ 0.03834644],\n",
       "        [-0.16054457],\n",
       "        [ 0.12721014],\n",
       "        [-0.00826558],\n",
       "        [-0.1232885 ],\n",
       "        [ 0.17485394],\n",
       "        [ 0.08948175],\n",
       "        [-0.16884553],\n",
       "        [ 0.1235118 ],\n",
       "        [ 0.09507699],\n",
       "        [-0.3207765 ],\n",
       "        [ 0.17695963],\n",
       "        [-0.2140327 ],\n",
       "        [-0.30020338]], dtype=float32),\n",
       " array([0.00204299], dtype=float32)]"
      ]
     },
     "execution_count": 157,
     "metadata": {},
     "output_type": "execute_result"
    }
   ],
   "source": [
    "model_params"
   ]
  },
  {
   "cell_type": "markdown",
   "id": "010c3103-250c-4c3a-9c46-5ad2cb96a4b3",
   "metadata": {},
   "source": [
    "### Q17. Store the model's training history as a Pandas DataFrame."
   ]
  },
  {
   "cell_type": "code",
   "execution_count": 158,
   "id": "a506b045-db19-450d-a69f-a2c3b12d1f72",
   "metadata": {},
   "outputs": [],
   "source": [
    "# Store the model's training history as a Pandas DataFrame\n",
    "history_df = pd.DataFrame(history.history)"
   ]
  },
  {
   "cell_type": "markdown",
   "id": "646b980f-4d6a-463c-9eb0-6ddc618d9397",
   "metadata": {},
   "source": [
    "### Q18. Plot the model's training history."
   ]
  },
  {
   "cell_type": "code",
   "execution_count": 159,
   "id": "2d638975-c9cc-4e93-875f-5373928ceba9",
   "metadata": {},
   "outputs": [],
   "source": [
    "import matplotlib.pyplot as plt"
   ]
  },
  {
   "cell_type": "code",
   "execution_count": 160,
   "id": "bb0bfa6c-f250-4516-8e32-76eba495160e",
   "metadata": {},
   "outputs": [
    {
     "data": {
      "image/png": "[encoded data removed]",
      "text/plain": [
       "<Figure size 640x480 with 1 Axes>"
      ]
     },
     "metadata": {},
     "output_type": "display_data"
    }
   ],
   "source": [
    "# Plot the training and validation loss over epochs\n",
    "plt.plot(history_df['loss'], label='Training Loss')\n",
    "plt.plot(history_df['val_loss'], label='Validation Loss')\n",
    "plt.xlabel('Epochs')\n",
    "plt.ylabel('Loss')\n",
    "plt.legend()\n",
    "plt.show()"
   ]
  },
  {
   "cell_type": "code",
   "execution_count": 161,
   "id": "b367c53e-a830-452f-a514-09c020183ed3",
   "metadata": {},
   "outputs": [
    {
     "data": {
      "image/png": "[encoded data removed]",
      "text/plain": [
       "<Figure size 640x480 with 1 Axes>"
      ]
     },
     "metadata": {},
     "output_type": "display_data"
    }
   ],
   "source": [
    "# Plot the training and validation accuracy over epochs\n",
    "plt.plot(history_df['accuracy'], label='Training Accuracy')\n",
    "plt.plot(history_df['val_accuracy'], label='Validation Accuracy')\n",
    "plt.xlabel('Epochs')\n",
    "plt.ylabel('Accuracy')\n",
    "plt.legend()\n",
    "plt.show()"
   ]
  },
  {
   "cell_type": "markdown",
   "id": "3a5abdf1-2ca9-467e-b26f-07149d9b959c",
   "metadata": {},
   "source": [
    "### Q19. Evaluate the model's performance using the test data."
   ]
  },
  {
   "cell_type": "code",
   "execution_count": 162,
   "id": "bfb476d0-d294-4675-b572-b8fae4520481",
   "metadata": {},
   "outputs": [
    {
     "name": "stdout",
     "output_type": "stream",
     "text": [
      "10/10 [==============================] - 0s 2ms/step - loss: 0.5112 - accuracy: 0.5594\n",
      "Test Loss: 0.5111593008041382\n",
      "Test Accuracy: 0.559374988079071\n"
     ]
    }
   ],
   "source": [
    "# Evaluate the model on the test data\n",
    "loss, accuracy = model.evaluate(X_test_scaled, y_test)\n",
    "print(\"Test Loss:\", loss)\n",
    "print(\"Test Accuracy:\", accuracy)"
   ]
  },
  {
   "cell_type": "code",
   "execution_count": null,
   "id": "3abbe3b2-4c2c-438e-897e-fcf1967b299e",
   "metadata": {},
   "outputs": [],
   "source": []
  }
 ],
 "metadata": {
  "kernelspec": {
   "display_name": "Python 3 (ipykernel)",
   "language": "python",
   "name": "python3"
  },
  "language_info": {
   "codemirror_mode": {
    "name": "ipython",
    "version": 3
   },
   "file_extension": ".py",
   "mimetype": "text/x-python",
   "name": "python",
   "nbconvert_exporter": "python",
   "pygments_lexer": "ipython3",
   "version": "3.10.8"
  }
 },
 "nbformat": 4,
 "nbformat_minor": 5
}
